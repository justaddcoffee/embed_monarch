{
 "cells": [
  {
   "cell_type": "code",
   "execution_count": 4,
   "id": "initial_id",
   "metadata": {
    "collapsed": true,
    "ExecuteTime": {
     "end_time": "2024-02-28T19:01:02.464563Z",
     "start_time": "2024-02-28T19:01:02.432031Z"
    }
   },
   "outputs": [],
   "source": [
    "import grape "
   ]
  },
  {
   "cell_type": "code",
   "execution_count": 5,
   "outputs": [
    {
     "name": "stdout",
     "output_type": "stream",
     "text": [
      "--2024-02-28 14:01:02--  https://data.monarchinitiative.org/monarch-kg/2024-02-13/monarch-kg.tar.gz\r\n",
      "Resolving data.monarchinitiative.org (data.monarchinitiative.org)... 35.208.191.193\r\n",
      "Connecting to data.monarchinitiative.org (data.monarchinitiative.org)|35.208.191.193|:443... connected.\r\n",
      "HTTP request sent, awaiting response... 200 OK\r\n",
      "Length: 145713446 (139M) [application/x-tar]\r\n",
      "Saving to: ‘monarch-kg.tar.gz.2’\r\n",
      "\r\n",
      "monarch-kg.tar.gz.2 100%[===================>] 138.96M  16.6MB/s    in 9.3s    \r\n",
      "\r\n",
      "2024-02-28 14:01:12 (15.0 MB/s) - ‘monarch-kg.tar.gz.2’ saved [145713446/145713446]\r\n",
      "\r\n",
      "x monarch-kg_nodes.tsv\r\n",
      "x monarch-kg_edges.tsv\r\n"
     ]
    }
   ],
   "source": [
    "!wget https://data.monarchinitiative.org/monarch-kg/2024-02-13/monarch-kg.tar.gz\n",
    "!tar -xvzf monarch-kg.tar.gz"
   ],
   "metadata": {
    "collapsed": false,
    "ExecuteTime": {
     "end_time": "2024-02-28T19:01:15.420108Z",
     "start_time": "2024-02-28T19:01:02.436972Z"
    }
   },
   "id": "3b1e0779c4af45a7"
  },
  {
   "cell_type": "code",
   "execution_count": null,
   "outputs": [],
   "source": [
    "from grape import Graph\n",
    "g = Graph.from_csv(\n",
    "        edge_path=\"monarch-kg_edges.tsv\",\n",
    "        node_path=\"monarch-kg_nodes.tsv\",\n",
    "        node_list_separator=\"\\t\",\n",
    "        edge_list_separator=\"\\t\",\n",
    "        node_list_header=True,  # Always true for KG-Hub KGs\n",
    "        edge_list_header=True,  # Always true for KG-Hub KGs\n",
    "        nodes_column='id',  # Always true for KG-Hub KGs\n",
    "        node_list_node_types_column='category',  # Always true for KG-Hub KGs\n",
    "        node_types_separator='|',\n",
    "        sources_column='subject',  # Always true for KG-Hub KGs\n",
    "        destinations_column='object',  # Always true for KG-Hub KGs\n",
    "        edge_list_edge_types_column='predicate',\n",
    "        directed=False,\n",
    "        name='Monarch KG Feb 2024',\n",
    "        verbose=True\n",
    ")\n",
    "g"
   ],
   "metadata": {
    "collapsed": false,
    "is_executing": true
   },
   "id": "d272ea11fb698f9a"
  },
  {
   "cell_type": "markdown",
   "source": [
    "### Get main component"
   ],
   "metadata": {
    "collapsed": false
   },
   "id": "bcdec8ffe46c6420"
  },
  {
   "cell_type": "code",
   "execution_count": null,
   "outputs": [],
   "source": [
    "mc = g.remove_components(top_k_components=1)\n",
    "mc"
   ],
   "metadata": {
    "collapsed": false,
    "is_executing": true
   },
   "id": "1b11c7fa70b52015"
  },
  {
   "cell_type": "markdown",
   "source": [
    "### Visualize the graph (quick LINE embeddings, just to see what the graph looks like)"
   ],
   "metadata": {
    "collapsed": false
   },
   "id": "1d95717aa55cae79"
  },
  {
   "cell_type": "code",
   "execution_count": null,
   "outputs": [],
   "source": [
    "from grape.embedders import FirstOrderLINEEnsmallen\n",
    "line_embedding = FirstOrderLINEEnsmallen().fit_transform(mc)\n",
    "# write out the embeddings\n",
    "line_embedding.to_csv('line_embedding.csv')"
   ],
   "metadata": {
    "collapsed": false,
    "is_executing": true
   },
   "id": "1e7ba1dcae4c1a8a"
  },
  {
   "cell_type": "code",
   "execution_count": null,
   "outputs": [],
   "source": [
    "from grape import GraphVisualizer\n",
    "GraphVisualizer(line_embedding)"
   ],
   "metadata": {
    "collapsed": false,
    "is_executing": true
   },
   "id": "b1713bb8e4f55074"
  },
  {
   "cell_type": "code",
   "execution_count": null,
   "outputs": [],
   "source": [
    "from grape.embedders import DeepWalkSkipGramEnsmallen\n",
    "deepwalk_embedding = DeepWalkSkipGramEnsmallen().fit_transform(mc)\n",
    "# write out the embeddings\n",
    "deepwalk_embedding.to_csv('deepwalk_embedding.csv')"
   ],
   "metadata": {
    "collapsed": false,
    "is_executing": true
   },
   "id": "e8b5c586568d46cf"
  }
 ],
 "metadata": {
  "kernelspec": {
   "display_name": "Python 3",
   "language": "python",
   "name": "python3"
  },
  "language_info": {
   "codemirror_mode": {
    "name": "ipython",
    "version": 2
   },
   "file_extension": ".py",
   "mimetype": "text/x-python",
   "name": "python",
   "nbconvert_exporter": "python",
   "pygments_lexer": "ipython2",
   "version": "2.7.6"
  }
 },
 "nbformat": 4,
 "nbformat_minor": 5
}
